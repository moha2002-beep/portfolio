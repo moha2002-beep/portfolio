{
 "cells": [
  {
   "cell_type": "code",
   "execution_count": null,
   "id": "e61515c5",
   "metadata": {},
   "outputs": [],
   "source": [
    "import socket\n",
    "import datetime\n",
    "\n",
    "HOST = 'localhost'\n",
    "PORT = 65432\n",
    "\n",
    "start_time = datetime.datetime.now()\n",
    "\n",
    "with socket.socket(socket.AF_INET, socket.SOCK_STREAM) as s:\n",
    "    s.connect((HOST, PORT))\n",
    "    s.sendall(b\"Hello from TCP Client!\")\n",
    "    data = s.recv(1024)\n",
    "\n",
    "end_time = datetime.datetime.now()\n",
    "print(\"Received:\", data.decode())\n",
    "print(\"Time taken (TCP):\", end_time - start_time)\n"
   ]
  },
  {
   "cell_type": "code",
   "execution_count": null,
   "id": "a7614b38",
   "metadata": {},
   "outputs": [],
   "source": [
    "import socket\n",
    "import datetime\n",
    "\n",
    "HOST = 'localhost'\n",
    "PORT = 65433\n",
    "\n",
    "start_time = datetime.datetime.now()\n",
    "\n",
    "with socket.socket(socket.AF_INET, socket.SOCK_DGRAM) as s:\n",
    "    s.sendto(b\"Hello from UDP Client!\", (HOST, PORT))\n",
    "    data, _ = s.recvfrom(1024)\n",
    "\n",
    "end_time = datetime.datetime.now()\n",
    "print(\"Received:\", data.decode())\n",
    "print(\"Time taken (UDP):\", end_time - start_time)\n"
   ]
  }
 ],
 "metadata": {
  "kernelspec": {
   "display_name": "Python 3",
   "language": "python",
   "name": "python3"
  },
  "language_info": {
   "codemirror_mode": {
    "name": "ipython",
    "version": 3
   },
   "file_extension": ".py",
   "mimetype": "text/x-python",
   "name": "python",
   "nbconvert_exporter": "python",
   "pygments_lexer": "ipython3",
   "version": "3.11.9"
  }
 },
 "nbformat": 4,
 "nbformat_minor": 5
}
