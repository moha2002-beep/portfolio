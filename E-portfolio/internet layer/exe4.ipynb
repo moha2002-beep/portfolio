{
 "cells": [
  {
   "cell_type": "code",
   "execution_count": 1,
   "id": "cae91a19",
   "metadata": {},
   "outputs": [
    {
     "name": "stdout",
     "output_type": "stream",
     "text": [
      "\n",
      "Subnetting Plan:\n",
      "Engineering: 192.168.1.0/27 → 32 IPs\n",
      "Marketing: 192.168.1.32/28 → 16 IPs\n",
      "Finance: 192.168.1.48/28 → 16 IPs\n",
      "HR: 192.168.1.64/29 → 8 IPs\n"
     ]
    }
   ],
   "source": [
    "import ipaddress\n",
    "\n",
    "network = ipaddress.ip_network('192.168.1.0/24')\n",
    "subnets = list(network.subnets())\n",
    "\n",
    "print(\"\\nSubnetting Plan:\")\n",
    "base = int(network.network_address)\n",
    "\n",
    "departments = {\n",
    "    \"Engineering\": 32,  # /27\n",
    "    \"Marketing\": 16,    # /28\n",
    "    \"Finance\": 16,      # /28\n",
    "    \"HR\": 8             # /29\n",
    "}\n",
    "\n",
    "used = 0\n",
    "for dept, size in departments.items():\n",
    "    prefix = 32 - (size - 1).bit_length()\n",
    "    subnet = ipaddress.ip_network((base + used, prefix), strict=False)\n",
    "    print(f\"{dept}: {subnet} → {subnet.num_addresses} IPs\")\n",
    "    used += subnet.num_addresses\n"
   ]
  }
 ],
 "metadata": {
  "kernelspec": {
   "display_name": "Python 3",
   "language": "python",
   "name": "python3"
  },
  "language_info": {
   "codemirror_mode": {
    "name": "ipython",
    "version": 3
   },
   "file_extension": ".py",
   "mimetype": "text/x-python",
   "name": "python",
   "nbconvert_exporter": "python",
   "pygments_lexer": "ipython3",
   "version": "3.11.9"
  }
 },
 "nbformat": 4,
 "nbformat_minor": 5
}
