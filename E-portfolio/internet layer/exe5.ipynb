{
 "cells": [
  {
   "cell_type": "code",
   "execution_count": null,
   "id": "2f67a0b3",
   "metadata": {},
   "outputs": [],
   "source": [
    "import socket\n",
    "from datetime import datetime\n",
    "\n",
    "# Pool of available IP addresses\n",
    "ip_pool = [\n",
    "    '192.168.1.10',\n",
    "    '192.168.1.11',\n",
    "    '192.168.1.12',\n",
    "    '192.168.1.13'\n",
    "]\n",
    "\n",
    "assigned_ips = []\n",
    "\n",
    "# TCP Server Setup\n",
    "server_socket = socket.socket(socket.AF_INET, socket.SOCK_STREAM)\n",
    "server_socket.bind(('localhost', 9999))\n",
    "server_socket.listen(5)\n",
    "\n",
    "print(\"DHCP Server is running and waiting for client connections...\")\n",
    "\n",
    "while True:\n",
    "    client_socket, addr = server_socket.accept()\n",
    "    print(f\"\\nConnection from {addr} at {datetime.now()}\")\n",
    "\n",
    "    # Assign an IP if available\n",
    "    if ip_pool:\n",
    "        assigned_ip = ip_pool.pop(0)\n",
    "        assigned_ips.append((addr, assigned_ip))\n",
    "        client_socket.send(assigned_ip.encode())\n",
    "        print(f\"Assigned IP {assigned_ip} to {addr}\")\n",
    "    else:\n",
    "        client_socket.send(\"No IPs available\".encode())\n",
    "        print(\"IP pool exhausted.\")\n",
    "\n",
    "    client_socket.close()\n"
   ]
  },
  {
   "cell_type": "code",
   "execution_count": null,
   "id": "8ee03baa",
   "metadata": {},
   "outputs": [],
   "source": [
    "import socket\n",
    "from datetime import datetime\n",
    "\n",
    "client_socket = socket.socket(socket.AF_INET, socket.SOCK_STREAM)\n",
    "\n",
    "try:\n",
    "    start_time = datetime.now()\n",
    "    client_socket.connect(('localhost', 9999))\n",
    "\n",
    "    ip = client_socket.recv(1024).decode()\n",
    "    end_time = datetime.now()\n",
    "\n",
    "    print(f\"Received IP Address: {ip}\")\n",
    "    print(f\"Request Time: {(end_time - start_time).total_seconds()} seconds\")\n",
    "\n",
    "finally:\n",
    "    client_socket.close()\n"
   ]
  }
 ],
 "metadata": {
  "kernelspec": {
   "display_name": "Python 3",
   "language": "python",
   "name": "python3"
  },
  "language_info": {
   "codemirror_mode": {
    "name": "ipython",
    "version": 3
   },
   "file_extension": ".py",
   "mimetype": "text/x-python",
   "name": "python",
   "nbconvert_exporter": "python",
   "pygments_lexer": "ipython3",
   "version": "3.11.9"
  }
 },
 "nbformat": 4,
 "nbformat_minor": 5
}
