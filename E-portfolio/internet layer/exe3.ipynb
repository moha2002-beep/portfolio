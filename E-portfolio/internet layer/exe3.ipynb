{
 "cells": [
  {
   "cell_type": "code",
   "execution_count": 1,
   "id": "a003ed7f",
   "metadata": {},
   "outputs": [
    {
     "name": "stdout",
     "output_type": "stream",
     "text": [
      "\n",
      "Analyzing IP: 192.168.50.74/24\n",
      "Network: 192.168.50.0/24\n",
      "Netmask: 255.255.255.0\n",
      "Broadcast: 192.168.50.255\n",
      "Is Private: True\n",
      "Is Global: False\n"
     ]
    }
   ],
   "source": [
    "import ipaddress\n",
    "import socket\n",
    "\n",
    "ip_str = socket.gethostbyname(socket.gethostname())\n",
    "ip = ipaddress.ip_interface(ip_str + '/24')  # assuming /24 for analysis\n",
    "\n",
    "print(f\"\\nAnalyzing IP: {ip}\")\n",
    "print(f\"Network: {ip.network}\")\n",
    "print(f\"Netmask: {ip.network.netmask}\")\n",
    "print(f\"Broadcast: {ip.network.broadcast_address}\")\n",
    "print(f\"Is Private: {ip.ip.is_private}\")\n",
    "print(f\"Is Global: {ip.ip.is_global}\")\n"
   ]
  }
 ],
 "metadata": {
  "kernelspec": {
   "display_name": "Python 3",
   "language": "python",
   "name": "python3"
  },
  "language_info": {
   "codemirror_mode": {
    "name": "ipython",
    "version": 3
   },
   "file_extension": ".py",
   "mimetype": "text/x-python",
   "name": "python",
   "nbconvert_exporter": "python",
   "pygments_lexer": "ipython3",
   "version": "3.11.9"
  }
 },
 "nbformat": 4,
 "nbformat_minor": 5
}
