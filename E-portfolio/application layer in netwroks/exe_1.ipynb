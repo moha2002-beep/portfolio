{
 "cells": [
  {
   "cell_type": "code",
   "execution_count": 1,
   "id": "aa37ec8e",
   "metadata": {},
   "outputs": [
    {
     "name": "stdout",
     "output_type": "stream",
     "text": [
      "www.google.com -> 142.250.4.99\n",
      "www.github.com -> 20.205.243.166\n",
      "www.wikipedia.org -> 103.102.166.224\n"
     ]
    }
   ],
   "source": [
    "# Exercise 1a: Get IP addresses of 3 websites\n",
    "import socket\n",
    "\n",
    "websites = [\"www.google.com\", \"www.github.com\", \"www.wikipedia.org\"]\n",
    "\n",
    "for site in websites:\n",
    "    try:\n",
    "        ip = socket.gethostbyname(site)\n",
    "        print(f\"{site} -> {ip}\")\n",
    "    except socket.gaierror:\n",
    "        print(f\"Could not resolve {site}\")\n"
   ]
  }
 ],
 "metadata": {
  "kernelspec": {
   "display_name": "Python 3",
   "language": "python",
   "name": "python3"
  },
  "language_info": {
   "codemirror_mode": {
    "name": "ipython",
    "version": 3
   },
   "file_extension": ".py",
   "mimetype": "text/x-python",
   "name": "python",
   "nbconvert_exporter": "python",
   "pygments_lexer": "ipython3",
   "version": "3.11.9"
  }
 },
 "nbformat": 4,
 "nbformat_minor": 5
}
