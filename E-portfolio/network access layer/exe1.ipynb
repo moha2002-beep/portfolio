{
 "cells": [
  {
   "cell_type": "code",
   "execution_count": 1,
   "id": "94b737c6",
   "metadata": {},
   "outputs": [
    {
     "name": "stdout",
     "output_type": "stream",
     "text": [
      "Original Data:  [1, 0, 1, 0, 1, 1, 0, 0]\n",
      "Computed Parity Bit (Even): 0\n",
      "\n",
      "Transmitted Data (Data + Parity): [1, 0, 1, 0, 1, 1, 0, 0, 0]\n",
      "\n",
      "Data with an Error Introduced at index 3 : [1, 0, 1, 1, 1, 1, 0, 0, 0]\n",
      "\n",
      "Error detected (Parity Check Failed)\n"
     ]
    }
   ],
   "source": [
    "# Function to compute even parity bit\n",
    "def compute_even_parity(data):\n",
    "    return sum(data) % 2  # Even parity: if total bits sum to odd, add 1; else 0\n",
    "\n",
    "# Exercise 1: Try different data sets\n",
    "data = [1, 0, 1, 0, 1, 1, 0, 0]  # You can change this list to test more sets\n",
    "parity_bit = compute_even_parity(data)\n",
    "\n",
    "print(\"Original Data: \", data)\n",
    "print(\"Computed Parity Bit (Even):\", parity_bit)\n",
    "\n",
    "# Transmitted data: append parity bit to the data array\n",
    "transmitted_data = data + [parity_bit]\n",
    "print(\"\\nTransmitted Data (Data + Parity):\", transmitted_data)\n",
    "\n",
    "# Exercise 2: Simulate an error by flipping a bit at a given index\n",
    "error_index = 3\n",
    "data_with_error = transmitted_data.copy()\n",
    "data_with_error[error_index] = 1 - data_with_error[error_index]  # Flip the bit\n",
    "\n",
    "print(\"\\nData with an Error Introduced at index\", error_index, \":\", data_with_error)\n",
    "\n",
    "# Receiver checks for even parity\n",
    "if sum(data_with_error) % 2 == 0:\n",
    "    print(\"\\nNo error detected (Parity Check Passed)\")\n",
    "else:\n",
    "    print(\"\\nError detected (Parity Check Failed)\")\n"
   ]
  }
 ],
 "metadata": {
  "kernelspec": {
   "display_name": "Python 3",
   "language": "python",
   "name": "python3"
  },
  "language_info": {
   "codemirror_mode": {
    "name": "ipython",
    "version": 3
   },
   "file_extension": ".py",
   "mimetype": "text/x-python",
   "name": "python",
   "nbconvert_exporter": "python",
   "pygments_lexer": "ipython3",
   "version": "3.11.9"
  }
 },
 "nbformat": 4,
 "nbformat_minor": 5
}
