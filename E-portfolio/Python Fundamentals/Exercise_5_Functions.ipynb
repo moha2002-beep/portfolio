{
 "cells": [
  {
   "cell_type": "code",
   "execution_count": 1,
   "id": "fede39cf",
   "metadata": {},
   "outputs": [
    {
     "name": "stdout",
     "output_type": "stream",
     "text": [
      "Sum of 5 and 3: 8\n"
     ]
    }
   ],
   "source": [
    "# Exercise 5: Functions\n",
    "\n",
    "# i. Function to return the sum of two numbers\n",
    "def add_numbers(x, y):\n",
    "    return x + y\n",
    "\n",
    "print(\"Sum of 5 and 3:\", add_numbers(5, 3))\n",
    "\n",
    "\n",
    "\n",
    "\n"
   ]
  },
  {
   "cell_type": "code",
   "execution_count": 2,
   "id": "f45f95e2",
   "metadata": {},
   "outputs": [
    {
     "name": "stdout",
     "output_type": "stream",
     "text": [
      "Largest number in [3, 7, 2, 9]: 9\n"
     ]
    }
   ],
   "source": [
    "# ii. Function to return the largest number in a list\n",
    "def find_largest(numbers):\n",
    "    return max(numbers)\n",
    "\n",
    "print(\"Largest number in [3, 7, 2, 9]:\", find_largest([3, 7, 2, 9]))"
   ]
  },
  {
   "cell_type": "code",
   "execution_count": 3,
   "id": "9d7a5bdc",
   "metadata": {},
   "outputs": [
    {
     "name": "stdout",
     "output_type": "stream",
     "text": [
      "Number of vowels in 'Hello World': 3\n"
     ]
    }
   ],
   "source": [
    "# iii. Function to count the number of vowels in a string\n",
    "def count_vowels(text):\n",
    "    vowels = \"aeiouAEIOU\"\n",
    "    return sum(1 for char in text if char in vowels)\n",
    "\n",
    "print(\"Number of vowels in 'Hello World':\", count_vowels(\"Hello World\"))"
   ]
  }
 ],
 "metadata": {
  "kernelspec": {
   "display_name": "Python 3",
   "language": "python",
   "name": "python3"
  },
  "language_info": {
   "codemirror_mode": {
    "name": "ipython",
    "version": 3
   },
   "file_extension": ".py",
   "mimetype": "text/x-python",
   "name": "python",
   "nbconvert_exporter": "python",
   "pygments_lexer": "ipython3",
   "version": "3.11.9"
  }
 },
 "nbformat": 4,
 "nbformat_minor": 5
}
