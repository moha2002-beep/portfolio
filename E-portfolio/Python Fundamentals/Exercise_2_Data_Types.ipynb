{
 "cells": [
  {
   "cell_type": "code",
   "execution_count": 1,
   "id": "6d8c7ec0",
   "metadata": {},
   "outputs": [
    {
     "name": "stdout",
     "output_type": "stream",
     "text": [
      "List of Fruits: ['Apple', 'Banana', 'Mango', 'Grapes', 'Orange']\n",
      "Tuple of Animals: ('Tiger', 'Elephant', 'Kangaroo')\n",
      "Programming Languages and Release Dates: {'Python': 1991, 'Java': 1995, 'JavaScript': 1995}\n",
      "Set of Colours: {'Green', 'Red', 'Blue'}\n",
      "Sentence: Python is an easy-to-learn programming language.\n"
     ]
    }
   ],
   "source": [
    "# Exercise 2: Python Data Types\n",
    "\n",
    "# i. Create a list of 5 different fruits and print the list\n",
    "fruits = [\"Apple\", \"Banana\", \"Mango\", \"Grapes\", \"Orange\"]\n",
    "print(\"List of Fruits:\", fruits)\n",
    "\n",
    "# ii. Create a tuple of 3 different animals and print the tuple\n",
    "animals = (\"Tiger\", \"Elephant\", \"Kangaroo\")\n",
    "print(\"Tuple of Animals:\", animals)\n",
    "\n",
    "# iii. Create a dictionary of 3 programming languages and their release dates\n",
    "languages = {\n",
    "    \"Python\": 1991,\n",
    "    \"Java\": 1995,\n",
    "    \"JavaScript\": 1995\n",
    "}\n",
    "print(\"Programming Languages and Release Dates:\", languages)\n",
    "\n",
    "# iv. Create a set of 3 different colours and print the set\n",
    "colours = {\"Red\", \"Blue\", \"Green\"}\n",
    "print(\"Set of Colours:\", colours)\n",
    "\n",
    "# v. Create a string variable with a sentence\n",
    "sentence = \"Python is an easy-to-learn programming language.\"\n",
    "print(\"Sentence:\", sentence)\n"
   ]
  }
 ],
 "metadata": {
  "kernelspec": {
   "display_name": "Python 3",
   "language": "python",
   "name": "python3"
  },
  "language_info": {
   "codemirror_mode": {
    "name": "ipython",
    "version": 3
   },
   "file_extension": ".py",
   "mimetype": "text/x-python",
   "name": "python",
   "nbconvert_exporter": "python",
   "pygments_lexer": "ipython3",
   "version": "3.11.9"
  }
 },
 "nbformat": 4,
 "nbformat_minor": 5
}
