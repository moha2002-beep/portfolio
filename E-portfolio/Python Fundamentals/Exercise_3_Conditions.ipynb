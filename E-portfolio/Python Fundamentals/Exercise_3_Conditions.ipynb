{
 "cells": [
  {
   "cell_type": "code",
   "execution_count": 1,
   "id": "8933657f",
   "metadata": {},
   "outputs": [
    {
     "name": "stdout",
     "output_type": "stream",
     "text": [
      "The number is positive.\n"
     ]
    }
   ],
   "source": [
    "# i. Check if a number is positive, negative, or zero\n",
    "num_input = input(\"Enter a number: \")\n",
    "\n",
    "if num_input.strip() == \"\":\n",
    "    print(\"No input provided.\")\n",
    "else:\n",
    "    try:\n",
    "        number = float(num_input)\n",
    "        if number > 0:\n",
    "            print(\"The number is positive.\")\n",
    "        elif number < 0:\n",
    "            print(\"The number is negative.\")\n",
    "        else:\n",
    "            print(\"The number is zero.\")\n",
    "    except ValueError:\n",
    "        print(\"Invalid input. Please enter a numeric value.\")\n"
   ]
  },
  {
   "cell_type": "code",
   "execution_count": 2,
   "id": "178f3ec4",
   "metadata": {},
   "outputs": [
    {
     "name": "stdout",
     "output_type": "stream",
     "text": [
      "The word starts with a consonant.\n"
     ]
    }
   ],
   "source": [
    "# ii. Check if a string starts with a vowel or consonant\n",
    "text = input(\"Enter a word: \")\n",
    "if text:\n",
    "    first_char = text[0].lower()\n",
    "    if first_char in \"aeiou\":\n",
    "        print(\"The word starts with a vowel.\")\n",
    "    elif first_char.isalpha():\n",
    "        print(\"The word starts with a consonant.\")\n",
    "    else:\n",
    "        print(\"The word does not start with a letter.\")\n",
    "else:\n",
    "    print(\"Empty string entered.\")"
   ]
  },
  {
   "cell_type": "code",
   "execution_count": 3,
   "id": "9b814f9c",
   "metadata": {},
   "outputs": [
    {
     "name": "stdout",
     "output_type": "stream",
     "text": [
      "The numbers are not equal.\n"
     ]
    }
   ],
   "source": [
    "# iii. Check if two numbers are equal\n",
    "num1 = float(input(\"Enter the first number: \"))\n",
    "num2 = float(input(\"Enter the second number: \"))\n",
    "\n",
    "if num1 == num2:\n",
    "    print(\"The numbers are equal.\")\n",
    "else:\n",
    "    print(\"The numbers are not equal.\")\n",
    "    3\n"
   ]
  }
 ],
 "metadata": {
  "kernelspec": {
   "display_name": "Python 3",
   "language": "python",
   "name": "python3"
  },
  "language_info": {
   "codemirror_mode": {
    "name": "ipython",
    "version": 3
   },
   "file_extension": ".py",
   "mimetype": "text/x-python",
   "name": "python",
   "nbconvert_exporter": "python",
   "pygments_lexer": "ipython3",
   "version": "3.11.9"
  }
 },
 "nbformat": 4,
 "nbformat_minor": 5
}
