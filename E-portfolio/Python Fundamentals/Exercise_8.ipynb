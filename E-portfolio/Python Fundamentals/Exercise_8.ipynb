{
 "cells": [
  {
   "cell_type": "code",
   "execution_count": 1,
   "id": "46bc9687",
   "metadata": {},
   "outputs": [
    {
     "name": "stdout",
     "output_type": "stream",
     "text": [
      "Welcome to Hangman!\n",
      "You have 6 incorrect guesses allowed.\n",
      "\n",
      "Current word: _ _ _ _ _ _ _ _ _ _\n",
      "Correct!\n",
      "\n",
      "Current word: _ a _ _ _ _ _ a _ _\n",
      "Incorrect! Attempts left: 5\n",
      "\n",
      "Current word: _ a _ _ _ _ _ a _ _\n",
      "Correct!\n",
      "\n",
      "Current word: _ a s _ _ _ _ a _ _\n",
      "Correct!\n",
      "\n",
      "Current word: _ a s _ _ t _ a _ _\n",
      "Correct!\n",
      "\n",
      "Current word: b a s _ _ t b a _ _\n",
      "Correct!\n",
      "\n",
      "Current word: b a s _ _ t b a l l\n",
      "Incorrect! Attempts left: 4\n",
      "\n",
      "Current word: b a s _ _ t b a l l\n",
      "You already guessed that letter.\n",
      "\n",
      "Current word: b a s _ _ t b a l l\n",
      "Correct!\n",
      "\n",
      "Current word: b a s _ e t b a l l\n",
      "Correct!\n",
      "\n",
      "Congratulations! You guessed the word: basketball\n"
     ]
    }
   ],
   "source": [
    "# Exercise 8: Hangman Game\n",
    "\n",
    "import random\n",
    "\n",
    "# List of possible words\n",
    "words = [\"python\", \"hangman\", \"programming\", \"challenge\", \"football\", \"basketball\", \"computer\", \"science\"]\n",
    "word = random.choice(words)\n",
    "guessed_word = [\"_\"] * len(word)\n",
    "attempts_left = 6\n",
    "guessed_letters = set()\n",
    "\n",
    "print(\"Welcome to Hangman!\")\n",
    "print(\"You have\", attempts_left, \"incorrect guesses allowed.\")\n",
    "\n",
    "while attempts_left > 0 and \"_\" in guessed_word:\n",
    "    print(\"\\nCurrent word:\", \" \".join(guessed_word))\n",
    "    guess = input(\"Guess a letter: \").lower()\n",
    "\n",
    "    if not guess.isalpha() or len(guess) != 1:\n",
    "        print(\"Please enter a single alphabetic character.\")\n",
    "        continue\n",
    "\n",
    "    if guess in guessed_letters:\n",
    "        print(\"You already guessed that letter.\")\n",
    "        continue\n",
    "\n",
    "    guessed_letters.add(guess)\n",
    "\n",
    "    if guess in word:\n",
    "        for i, char in enumerate(word):\n",
    "            if char == guess:\n",
    "                guessed_word[i] = guess\n",
    "        print(\"Correct!\")\n",
    "    else:\n",
    "        attempts_left -= 1\n",
    "        print(\"Incorrect! Attempts left:\", attempts_left)\n",
    "\n",
    "if \"_\" not in guessed_word:\n",
    "    print(\"\\nCongratulations! You guessed the word:\", word)\n",
    "else:\n",
    "    print(\"\\nGame over! The word was:\", word)\n"
   ]
  }
 ],
 "metadata": {
  "kernelspec": {
   "display_name": "Python 3",
   "language": "python",
   "name": "python3"
  },
  "language_info": {
   "codemirror_mode": {
    "name": "ipython",
    "version": 3
   },
   "file_extension": ".py",
   "mimetype": "text/x-python",
   "name": "python",
   "nbconvert_exporter": "python",
   "pygments_lexer": "ipython3",
   "version": "3.11.9"
  }
 },
 "nbformat": 4,
 "nbformat_minor": 5
}
