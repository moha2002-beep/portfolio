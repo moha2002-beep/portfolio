{
 "cells": [
  {
   "cell_type": "code",
   "execution_count": 1,
   "id": "129bc7f6",
   "metadata": {},
   "outputs": [
    {
     "name": "stdout",
     "output_type": "stream",
     "text": [
      "Password is not strong. Issues:\n",
      "- Password must contain at least one uppercase letter.\n",
      "- Password must contain at least one special character (e.g. @, #, $, %).\n"
     ]
    }
   ],
   "source": [
    "# Exercise 6: Password Strength Checker\n",
    "\n",
    "import string\n",
    "\n",
    "password = input(\"Enter a password to check: \")\n",
    "\n",
    "# Initialize flags\n",
    "length_ok = len(password) >= 8\n",
    "has_upper = any(c.isupper() for c in password)\n",
    "has_lower = any(c.islower() for c in password)\n",
    "has_special = any(c in string.punctuation for c in password)\n",
    "\n",
    "# Check and report\n",
    "if length_ok and has_upper and has_lower and has_special:\n",
    "    print(\"Password is strong.\")\n",
    "else:\n",
    "    print(\"Password is not strong. Issues:\")\n",
    "    if not length_ok:\n",
    "        print(\"- Password must contain at least 8 characters.\")\n",
    "    if not has_upper:\n",
    "        print(\"- Password must contain at least one uppercase letter.\")\n",
    "    if not has_lower:\n",
    "        print(\"- Password must contain at least one lowercase letter.\")\n",
    "    if not has_special:\n",
    "        print(\"- Password must contain at least one special character (e.g. @, #, $, %).\")\n"
   ]
  }
 ],
 "metadata": {
  "kernelspec": {
   "display_name": "Python 3",
   "language": "python",
   "name": "python3"
  },
  "language_info": {
   "codemirror_mode": {
    "name": "ipython",
    "version": 3
   },
   "file_extension": ".py",
   "mimetype": "text/x-python",
   "name": "python",
   "nbconvert_exporter": "python",
   "pygments_lexer": "ipython3",
   "version": "3.11.9"
  }
 },
 "nbformat": 4,
 "nbformat_minor": 5
}
