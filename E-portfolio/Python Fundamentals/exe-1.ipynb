{
 "cells": [
  {
   "cell_type": "code",
   "execution_count": 1,
   "id": "5c2b1c31",
   "metadata": {},
   "outputs": [
    {
     "name": "stdout",
     "output_type": "stream",
     "text": [
      "Addition Result: 22\n",
      "Subtraction Result: 8\n",
      "Multiplication Result: 105\n",
      "Division Result: 2.142857142857143\n",
      "Modulus (Remainder) Result: 1\n",
      "Power Result: 16\n"
     ]
    }
   ],
   "source": [
    "# Basic Math Operations in Python\n",
    "\n",
    "# ------------------------------------------\n",
    "# i. Addition of two numbers\n",
    "a = 15\n",
    "b = 7\n",
    "addition_result = a + b\n",
    "print(\"Addition Result:\", addition_result)\n",
    "\n",
    "# ------------------------------------------\n",
    "# ii. Subtraction of two numbers\n",
    "a = 15\n",
    "b = 7\n",
    "subtraction_result = a - b\n",
    "print(\"Subtraction Result:\", subtraction_result)\n",
    "\n",
    "# ------------------------------------------\n",
    "# iii. Multiplication of two numbers\n",
    "a = 15\n",
    "b = 7\n",
    "multiplication_result = a * b\n",
    "print(\"Multiplication Result:\", multiplication_result)\n",
    "\n",
    "# ------------------------------------------\n",
    "# iv. Division of two numbers\n",
    "a = 15\n",
    "b = 7\n",
    "division_result = a / b\n",
    "print(\"Division Result:\", division_result)\n",
    "\n",
    "# ------------------------------------------\n",
    "# v. Remainder (Modulus) of two numbers\n",
    "a = 15\n",
    "b = 7\n",
    "modulus_result = a % b\n",
    "print(\"Modulus (Remainder) Result:\", modulus_result)\n",
    "\n",
    "# ------------------------------------------\n",
    "# vi. Power (Exponentiation)\n",
    "a = 2\n",
    "b = 4\n",
    "power_result = a ** b\n",
    "print(\"Power Result:\", power_result)\n"
   ]
  }
 ],
 "metadata": {
  "kernelspec": {
   "display_name": "Python 3",
   "language": "python",
   "name": "python3"
  },
  "language_info": {
   "codemirror_mode": {
    "name": "ipython",
    "version": 3
   },
   "file_extension": ".py",
   "mimetype": "text/x-python",
   "name": "python",
   "nbconvert_exporter": "python",
   "pygments_lexer": "ipython3",
   "version": "3.11.9"
  }
 },
 "nbformat": 4,
 "nbformat_minor": 5
}
