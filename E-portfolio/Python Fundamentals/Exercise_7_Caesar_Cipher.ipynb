{
 "cells": [
  {
   "cell_type": "code",
   "execution_count": null,
   "id": "46bc9687",
   "metadata": {},
   "outputs": [],
   "source": [
    "# Exercise 7: Caesar Cipher\n",
    "\n",
    "def encrypt_caesar(message, key):\n",
    "    encrypted = \"\"\n",
    "    for char in message:\n",
    "        if char.isalpha():\n",
    "            offset = 65 if char.isupper() else 97\n",
    "            encrypted += chr((ord(char) - offset + key) % 26 + offset)\n",
    "        else:\n",
    "            encrypted += char\n",
    "    return encrypted\n",
    "\n",
    "def decrypt_caesar(cipher, key):\n",
    "    return encrypt_caesar(cipher, -key)\n",
    "\n",
    "# Get user input\n",
    "message = input(\"Enter your message: \")\n",
    "key = int(input(\"Enter the key (number of positions to shift): \"))\n",
    "\n",
    "# Encrypt the message\n",
    "encrypted_message = encrypt_caesar(message, key)\n",
    "print(\"Encrypted message:\", encrypted_message)\n",
    "\n",
    "# Decrypt the message\n",
    "decrypted_message = decrypt_caesar(encrypted_message, key)\n",
    "print(\"Decrypted message:\", decrypted_message)\n"
   ]
  }
 ],
 "metadata": {
  "kernelspec": {
   "display_name": "Python 3",
   "language": "python",
   "name": "python3"
  },
  "language_info": {
   "codemirror_mode": {
    "name": "ipython",
    "version": 3
   },
   "file_extension": ".py",
   "mimetype": "text/x-python",
   "name": "python",
   "nbconvert_exporter": "python",
   "pygments_lexer": "ipython3",
   "version": "3.11.9"
  }
 },
 "nbformat": 4,
 "nbformat_minor": 5
}
