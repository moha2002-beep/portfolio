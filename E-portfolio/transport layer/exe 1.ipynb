{
 "cells": [
  {
   "cell_type": "code",
   "execution_count": null,
   "id": "02780d73",
   "metadata": {},
   "outputs": [
    {
     "name": "stdout",
     "output_type": "stream",
     "text": [
      "UDP Server is listening...\n"
     ]
    }
   ],
   "source": [
    "import socket\n",
    "\n",
    "# Server address and port\n",
    "server_address = ('localhost', 12345)\n",
    "\n",
    "# Create the UDP socket\n",
    "udp_server = socket.socket(socket.AF_INET, socket.SOCK_DGRAM)\n",
    "\n",
    "# Bind the socket to the address and port\n",
    "udp_server.bind(server_address)\n",
    "\n",
    "print(\"UDP Server is listening...\")\n",
    "\n",
    "while True:\n",
    "    # Wait for incoming data\n",
    "    data, address = udp_server.recvfrom(4096)\n",
    "    \n",
    "    print(f\"Received message from {address}: {data.decode()}\")\n",
    "    \n",
    "    # Respond to the client\n",
    "    udp_server.sendto(b\"Message received\", address)\n"
   ]
  }
 ],
 "metadata": {
  "kernelspec": {
   "display_name": "Python 3",
   "language": "python",
   "name": "python3"
  },
  "language_info": {
   "codemirror_mode": {
    "name": "ipython",
    "version": 3
   },
   "file_extension": ".py",
   "mimetype": "text/x-python",
   "name": "python",
   "nbconvert_exporter": "python",
   "pygments_lexer": "ipython3",
   "version": "3.11.9"
  }
 },
 "nbformat": 4,
 "nbformat_minor": 5
}
