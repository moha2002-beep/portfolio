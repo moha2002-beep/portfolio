{
 "cells": [
  {
   "cell_type": "code",
   "execution_count": 2,
   "id": "8bad68cb",
   "metadata": {},
   "outputs": [
    {
     "name": "stdout",
     "output_type": "stream",
     "text": [
      "Average temperature at UCL in 2021: 10.68°C\n",
      "Average temperature at British Library in 2021: 10.8°C\n",
      "British Library was warmer on average.\n"
     ]
    }
   ],
   "source": [
    "import socket\n",
    "import requests\n",
    "import pandas as pd\n",
    "\n",
    "def fetch_avg_temperature(lat, lon, start_date, end_date):\n",
    "    url = \"https://archive-api.open-meteo.com/v1/era5\"\n",
    "    params = {\n",
    "        \"latitude\": lat,\n",
    "        \"longitude\": lon,\n",
    "        \"start_date\": start_date,\n",
    "        \"end_date\": end_date,\n",
    "        \"hourly\": \"temperature_2m\"\n",
    "    }\n",
    "\n",
    "    response = requests.get(url, params=params)\n",
    "    data = response.json()\n",
    "\n",
    "    # Create DataFrame and calculate average temperature\n",
    "    temps = data[\"hourly\"][\"temperature_2m\"]\n",
    "    avg_temp = sum(temps) / len(temps)\n",
    "    return round(avg_temp, 2)\n",
    "\n",
    "# Define coordinates for University (UCL) and British Library (both in London, slightly different)\n",
    "ucl_coords = (51.5246, -0.1340)\n",
    "library_coords = (51.5299, -0.1276)\n",
    "start = \"2021-01-01\"\n",
    "end = \"2021-12-31\"\n",
    "\n",
    "# Fetch average temps\n",
    "ucl_temp = fetch_avg_temperature(*ucl_coords, start, end)\n",
    "library_temp = fetch_avg_temperature(*library_coords, start, end)\n",
    "\n",
    "# Print comparison\n",
    "print(f\"Average temperature at UCL in 2021: {ucl_temp}°C\")\n",
    "print(f\"Average temperature at British Library in 2021: {library_temp}°C\")\n",
    "\n",
    "if ucl_temp > library_temp:\n",
    "    print(\"UCL was warmer on average.\")\n",
    "elif library_temp > ucl_temp:\n",
    "    print(\"British Library was warmer on average.\")\n",
    "else:\n",
    "    print(\"Both had the same average temperature.\")\n"
   ]
  }
 ],
 "metadata": {
  "kernelspec": {
   "display_name": "Python 3",
   "language": "python",
   "name": "python3"
  },
  "language_info": {
   "codemirror_mode": {
    "name": "ipython",
    "version": 3
   },
   "file_extension": ".py",
   "mimetype": "text/x-python",
   "name": "python",
   "nbconvert_exporter": "python",
   "pygments_lexer": "ipython3",
   "version": "3.11.9"
  }
 },
 "nbformat": 4,
 "nbformat_minor": 5
}
