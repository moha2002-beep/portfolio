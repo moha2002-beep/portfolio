{
 "cells": [
  {
   "cell_type": "code",
   "execution_count": null,
   "id": "02780d73",
   "metadata": {},
   "outputs": [
    {
     "name": "stdout",
     "output_type": "stream",
     "text": [
      "Chat Server is running...\n"
     ]
    }
   ],
   "source": [
    "import socket\n",
    "\n",
    "server_address = ('localhost', 12345)\n",
    "udp_server = socket.socket(socket.AF_INET, socket.SOCK_DGRAM)\n",
    "udp_server.bind(server_address)\n",
    "\n",
    "print(\"Chat Server is running...\")\n",
    "\n",
    "clients = {}\n",
    "\n",
    "while True:\n",
    "    data, address = udp_server.recvfrom(4096)\n",
    "    print(f\"Received message from {address}: {data.decode()}\")\n",
    "    \n",
    "    if address not in clients:\n",
    "        clients[address] = \"Anonymous\"\n",
    "    \n",
    "    # Broadcast the message to all other clients\n",
    "    message = f\"{clients[address]}: {data.decode()}\"\n",
    "    for client in clients:\n",
    "    \n",
    "        if client != address:\n",
    "            udp_server.sendto(message.encode(), client)\n",
    "    \n",
    "    # Respond to the current client\n",
    "    udp_server.sendto(b\"Message received\", address)\n"
   ]
  },
  {
   "cell_type": "code",
   "execution_count": null,
   "id": "756c6f9e",
   "metadata": {},
   "outputs": [],
   "source": [
    "import socket\n",
    "import threading\n",
    "\n",
    "# Server address\n",
    "server_address = ('localhost', 12345)\n",
    "\n",
    "# Create the UDP socket\n",
    "udp_client = socket.socket(socket.AF_INET, socket.SOCK_DGRAM)\n",
    "\n",
    "def receive_messages():\n",
    "    while True:\n",
    "        data, _ = udp_client.recvfrom(4096)\n",
    "        print(data.decode())\n",
    "\n",
    "# Start a thread to listen for incoming messages\n",
    "thread = threading.Thread(target=receive_messages)\n",
    "thread.daemon = True\n",
    "thread.start()\n",
    "\n",
    "# Send messages to the server\n",
    "while True:\n",
    "    message = input(\"You: \")\n",
    "    udp_client.sendto(message.encode(), server_address)\n"
   ]
  }
 ],
 "metadata": {
  "kernelspec": {
   "display_name": "Python 3",
   "language": "python",
   "name": "python3"
  },
  "language_info": {
   "codemirror_mode": {
    "name": "ipython",
    "version": 3
   },
   "file_extension": ".py",
   "mimetype": "text/x-python",
   "name": "python",
   "nbconvert_exporter": "python",
   "pygments_lexer": "ipython3",
   "version": "3.11.9"
  }
 },
 "nbformat": 4,
 "nbformat_minor": 5
}
