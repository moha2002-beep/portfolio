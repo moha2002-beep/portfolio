{
 "cells": [
  {
   "cell_type": "code",
   "execution_count": null,
   "id": "78fd3d3a",
   "metadata": {},
   "outputs": [
    {
     "name": "stdout",
     "output_type": "stream",
     "text": [
      "Chat Server is running...\n"
     ]
    }
   ],
   "source": [
    "import socket\n",
    "\n",
    "server_address = ('localhost', 12345)\n",
    "udp_server = socket.socket(socket.AF_INET, socket.SOCK_DGRAM)\n",
    "udp_server.bind(server_address)\n",
    "\n",
    "print(\"Chat Server is running...\")\n",
    "\n",
    "clients = {}  # This dictionary will store IP address -> username mapping\n",
    "\n",
    "while True:\n",
    "    data, address = udp_server.recvfrom(4096)\n",
    "    \n",
    "    # Check if the user is sending their username\n",
    "    if address not in clients:\n",
    "        username = data.decode()\n",
    "        clients[address] = username\n",
    "        print(f\"New user connected: {username} at {address}\")\n",
    "        udp_server.sendto(b\"Username received, you can start chatting\", address)\n",
    "        continue\n",
    "    \n",
    "    # Broadcast message to all other clients\n",
    "    message = f\"{clients[address]}: {data.decode()}\"\n",
    "    for client in clients:\n",
    "        if client != address:\n",
    "            udp_server.sendto(message.encode(), client)\n",
    "    \n",
    "    # Respond to the current client\n",
    "    udp_server.sendto(b\"Message received\", address)\n"
   ]
  },
  {
   "cell_type": "code",
   "execution_count": null,
   "id": "4e607353",
   "metadata": {},
   "outputs": [],
   "source": [
    "import socket\n",
    "\n",
    "# Server address\n",
    "server_address = ('localhost', 12345)\n",
    "\n",
    "# Create the UDP socket\n",
    "udp_client = socket.socket(socket.AF_INET, socket.SOCK_DGRAM)\n",
    "\n",
    "# Register the username\n",
    "username = input(\"Enter your username: \")\n",
    "udp_client.sendto(username.encode(), server_address)\n",
    "\n",
    "while True:\n",
    "    message = input(\"You: \")\n",
    "    udp_client.sendto(message.encode(), server_address)\n"
   ]
  }
 ],
 "metadata": {
  "kernelspec": {
   "display_name": "Python 3",
   "language": "python",
   "name": "python3"
  },
  "language_info": {
   "codemirror_mode": {
    "name": "ipython",
    "version": 3
   },
   "file_extension": ".py",
   "mimetype": "text/x-python",
   "name": "python",
   "nbconvert_exporter": "python",
   "pygments_lexer": "ipython3",
   "version": "3.11.9"
  }
 },
 "nbformat": 4,
 "nbformat_minor": 5
}
