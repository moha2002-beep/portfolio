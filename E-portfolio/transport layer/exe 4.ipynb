{
 "cells": [
  {
   "cell_type": "code",
   "execution_count": null,
   "id": "533708e8",
   "metadata": {},
   "outputs": [],
   "source": [
    "from cryptography.fernet import Fernet\n",
    "\n",
    "# Generate a key for encryption (you can save it for later)\n",
    "key = Fernet.generate_key()\n",
    "cipher_suite = Fernet(key)\n",
    "\n",
    "# Encrypt a message\n",
    "def encrypt_message(message):\n",
    "    return cipher_suite.encrypt(message.encode())\n",
    "\n",
    "# Example usage\n",
    "message = \"Hello, this is a secret message\"\n",
    "encrypted_message = encrypt_message(message)\n",
    "print(f\"Encrypted: {encrypted_message}\")\n"
   ]
  },
  {
   "cell_type": "code",
   "execution_count": null,
   "id": "12281655",
   "metadata": {},
   "outputs": [],
   "source": [
    "# Decrypt the received message\n",
    "def decrypt_message(encrypted_message):\n",
    "    return cipher_suite.decrypt(encrypted_message).decode()\n",
    "\n",
    "# Example usage\n",
    "decrypted_message = decrypt_message(encrypted_message)\n",
    "print(f\"Decrypted: {decrypted_message}\")\n"
   ]
  }
 ],
 "metadata": {
  "language_info": {
   "name": "python"
  }
 },
 "nbformat": 4,
 "nbformat_minor": 5
}
